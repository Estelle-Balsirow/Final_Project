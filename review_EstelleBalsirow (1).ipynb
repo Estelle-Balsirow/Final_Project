{
 "cells": [
  {
   "cell_type": "markdown",
   "id": "1297021a",
   "metadata": {},
   "source": [
    "# Reviewer template\n",
    "\n",
    "This is a template for reviewing class projects. Please fill out the sections below to review a project, and then email your review to person whose project it is. Also upload a pdf of each of your reviews to Gradescope. \n",
    "\n",
    "Remeber, these reviews are not annoymous so be sure to be positive in your review, but also be critical in order to help make the author's project stronger for their final submission. \n",
    "\n",
    "\n",
    "#### Project writer name: Estelle Balsirow\n",
    "#### Project writer email address: estelle.balsirow@yale.edu\n",
    "\n",
    "#### Reviewer name: Daniela Naumov\n",
    "#### Reviwer email address: daniela.naumov@yale.edu\n",
    "\n"
   ]
  },
  {
   "cell_type": "markdown",
   "id": "4a4738f7",
   "metadata": {},
   "source": [
    "# Summary\n",
    "\n",
    "Please write a one paragraph (~3-6 sentence) summary of the project here. You should summarize the main goals and findings of the project.\n",
    "\n",
    "This project examined a dataset of Spotify's all time top 2000s hits, and was interested in analyzing the presented data to understand the Spotify music recommendation system. The project looked at the popularity of 68 unique genres of music, and performed analyses to relate the changes in tempo and  danceability to the popularity of each genre. Additional correlations were sought out using a heatmap between the data and its variables. This will help inform the machine learning methods that will be implemented to recreate the Spotify algorithm used to recommend new genres and songs to listeners. \n",
    "\n",
    "\n",
    "## 1. Overall strengths and weaknesses \n",
    "\n",
    "Please write 1-2 paragraphs that describe overall what you think the strengths and weakness are of the project. In particular, mention what you found interesting about the results, which analyses/visualizations you found convincing, and what could be done to potentially make the project stronger. \n",
    "\n",
    "I really enjoyed how you walked readers through your process. The chunks of text between each analysis did a good job of tying together the different parts of the project. I also appreciated how you explained the data cleaning procedures, and related them to minimizing outliers, which strengthens the integrity of your work. \n",
    "\n",
    "My biggest suggestion is to add more to your data analysis. You have a good foundation, but I think it would be interesting to include scatter plots that show individual correlations between variables like loudness and energy. It would also be interesting to look at these trends over time, since you have access to this data. I may even go back to make your research question/conclusions more specific once you narrow down your analyses. \n",
    "\n",
    "\n",
    "## 2. Major revisions\n",
    "\n",
    "Add bullet points of items that you think should definitely be changed for the final submission of the project. \n",
    "\n",
    "- Data wrangling section heading seems incomplete -- an easy fix but important! \n",
    "- Add titles to all plots\n",
    "- Add more plots/calculations to the data analysis section \n",
    "\n",
    "\n",
    "## 3. Minor revisions \n",
    "\n",
    "\n",
    "Add bullet points of items that are more minor, but that would be good to change for the final submission of the project. \n",
    "\n",
    "- Fix minor spelling/grammar errors in the different chunks of text \n",
    "- I would maybe explain more what the popularity score means and how Spotify calculates this number, because right now, it is easy to imagine that these values are all similarly popular \n",
    "- I think that the significant relationship on your heatmap you should highlight is that between loudness and energy, not valence and energy\n",
    "\n",
    "\n",
    "## 3. Rubric score\n",
    "\n",
    "Please write a score for the project based on the project rubric that is on Canvas. For any items where there would be a point deduction, please cut and paste a bullet point for that item in the \"Items for ponts take off\" section below. \n",
    "\n",
    "\n",
    "\n",
    "\n",
    "#### Rubric items where points would be taken off if not addressed: \n",
    "\n",
    "- Project would benefit from an additional analysis\n",
    "- Conclusions reiterates test results with no significant insight given; i.e., does not describe how results address question of interest, why the are interesting, or put them into context. (need to add more to conclusion!)\n",
    "- Visual appearance of graphs could be improved; i.e., missing labels, poor color choices, etc.\n",
    "\n",
    "\n",
    "\n",
    "### Total score:   87/90 (if each of the bullet points is worth 1 pt) \n",
    "\n",
    "\n",
    "\n"
   ]
  }
 ],
 "metadata": {
  "kernelspec": {
   "display_name": "Python [conda env:ydata123_env_2023e1] *",
   "language": "python",
   "name": "conda-env-ydata123_env_2023e1-py"
  },
  "language_info": {
   "codemirror_mode": {
    "name": "ipython",
    "version": 3
   },
   "file_extension": ".py",
   "mimetype": "text/x-python",
   "name": "python",
   "nbconvert_exporter": "python",
   "pygments_lexer": "ipython3",
   "version": "3.11.0"
  }
 },
 "nbformat": 4,
 "nbformat_minor": 5
}
